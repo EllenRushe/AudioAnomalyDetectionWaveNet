{
 "cells": [
  {
   "cell_type": "code",
   "execution_count": 1,
   "metadata": {},
   "outputs": [],
   "source": [
    "import os\n",
    "import glob\n",
    "import math\n",
    "import numpy as np\n",
    "import pandas as pd\n",
    "import tensorflow as tf\n",
    "from ruamel.yaml import YAML\n",
    "import matplotlib.pyplot as plt\n",
    "from sklearn.metrics import roc_curve, auc"
   ]
  },
  {
   "cell_type": "code",
   "execution_count": 2,
   "metadata": {},
   "outputs": [],
   "source": [
    "def _parse_function(file):\n",
    "    features = {\n",
    "        'label': tf.FixedLenFeature([], tf.int64),\n",
    "        'audio_inputs': tf.FixedLenFeature([], tf.string),\n",
    "        'scene': tf.FixedLenFeature([], tf.string),\n",
    "        'source_file': tf.FixedLenFeature([], tf.string)\n",
    "    }\n",
    "    parsed_features = tf.parse_single_example(file, features=features)\n",
    "    label = tf.cast(parsed_features['label'], tf.int64)\n",
    "    source_file = tf.decode_raw(parsed_features['source_file'], tf.uint8)\n",
    "    return label, source_file\n",
    "\n",
    "def get_input_fn(filenames, batch_size):\n",
    "    def _input_fn():\n",
    "        dataset = tf.data.TFRecordDataset(filenames)\n",
    "        dataset = dataset.map(_parse_function)\n",
    "        dataset = dataset.batch(batch_size)\n",
    "        iterator = dataset.make_one_shot_iterator()\n",
    "        # There are a couple of elements here. \n",
    "        next_element = iterator.get_next()\n",
    "        return next_element\n",
    "    return _input_fn\n",
    "\n",
    "def data_meta_parse(yaml_file):\n",
    "    with open(yaml_file) as f:\n",
    "        yaml = YAML(typ='safe')\n",
    "        yaml_map = yaml.load(f)\n",
    "        set_dict = dict()\n",
    "        for file_dict in yaml_map:\n",
    "            set_dict[file_dict['mixture_audio_filename']] = dict_to_object(file_dict)\n",
    "        return set_dict\n",
    "    \n",
    "class dict_to_object(object):\n",
    "    def __init__(self, dictionary):\n",
    "        for k, v in dictionary.items():\n",
    "            setattr(self, k, v)\n",
    "\n",
    "    def __str__(self):\n",
    "        return \"\\n\".join([\"{} : {}\".format(k,v) for k,v in self.__dict__.items()])"
   ]
  },
  {
   "cell_type": "code",
   "execution_count": 5,
   "metadata": {},
   "outputs": [],
   "source": [
    "def sep_eval_on_ebr(scene_name, model, model_name):\n",
    "    data_dir = ''\n",
    "    evaltest_dir = os.path.join(data_dir,\"data/TUT-rare-sound-events-2017-evaluation/data\",\n",
    "        \"mixture_data/evaltest/bbb81504db15a03680a0044474633b67\")\n",
    "    test_meta_dir = os.path.join(evaltest_dir,\"meta\")\n",
    "    test_meta_dir_file = os.path.join(test_meta_dir,\"mixture_recipes_evaltest_\")\n",
    "    b_test_meta = data_meta_parse(test_meta_dir_file+\"babycry.yaml\")\n",
    "    gs_test_meta = data_meta_parse(test_meta_dir_file+\"gunshot.yaml\")\n",
    "    gb_test_meta = data_meta_parse(test_meta_dir_file+\"glassbreak.yaml\")  \n",
    "    filenames = [os.path.join(data_dir, 'data_binaries/test/babycry/{}/babycry_{}_pos.tfrecord'.format(scene_name,scene_name)), \n",
    "                 os.path.join(data_dir, 'data_binaries/test/babycry/{}/babycry_{}_neg.tfrecord'.format(scene_name,scene_name)), \n",
    "                 os.path.join(data_dir, 'data_binaries/test/glassbreak/{}/glassbreak_{}_pos.tfrecord'.format(scene_name,scene_name)), \n",
    "                 os.path.join(data_dir, 'data_binaries/test/glassbreak/{}/glassbreak_{}_neg.tfrecord'.format(scene_name,scene_name)), \n",
    "                 os.path.join(data_dir, 'data_binaries/test/gunshot/{}/gunshot_{}_pos.tfrecord'.format(scene_name,scene_name)), \n",
    "                 os.path.join(data_dir, 'data_binaries/test/gunshot/{}/gunshot_{}_neg.tfrecord'.format(scene_name,scene_name))]\n",
    "    input_fn_test = get_input_fn(filenames, 1)\n",
    "    labels_op, meta_op = input_fn_test()\n",
    "    test_meta = {**b_test_meta, **gs_test_meta, **gb_test_meta}\n",
    "\n",
    "    preds = np.load(os.path.join(data_dir, \n",
    "                                 'preds/test_preds_{}/preds_test_{}_{}.npy'.format(model, model_name, scene_name)))\n",
    "    targets = np.load(os.path.join(data_dir,\n",
    "                                   'targets/targets_{}/targets_test_{}_{}.npy'.format(model, model_name, scene_name)))\n",
    "    preds = np.squeeze(preds)\n",
    "    targets = np.squeeze(targets)\n",
    "\n",
    "    mse = ((preds-targets)**2).mean(axis=1)\n",
    "\n",
    "    label_list = []\n",
    "    ebr_list = []\n",
    "\n",
    "    neg = [['mse', 'label', 'ebr']]\n",
    "    mid = []\n",
    "    high = []\n",
    "    low = []\n",
    "    i = 0\n",
    "    with tf.Session() as sess:\n",
    "        while True:\n",
    "            try:\n",
    "                label, meta = sess.run([labels_op, meta_op])\n",
    "                # Deserialise (was stored as an int)\n",
    "                meta_str = ''.join(chr(i) for i in meta[0])\n",
    "                try:\n",
    "                    # Get name of file and check the event-to-backround-ratio of this meta file. \n",
    "                    ebr = test_meta['_'.join(meta_str.split('_')[:-1])+'.wav'].ebr\n",
    "                except KeyError:\n",
    "                    print('File meta not found')\n",
    "                    break\n",
    "                if label == 1:\n",
    "                    # db are floats. \n",
    "                    if math.isclose(ebr,0):\n",
    "                        mid.append([mse[i], label[0], ebr])\n",
    "                    elif ebr < 0:\n",
    "                        low.append([mse[i], label[0], ebr])\n",
    "                    elif ebr > 0:\n",
    "                        high.append([mse[i], label[0], ebr])\n",
    "                else:\n",
    "                    neg.append([mse[i], label[0], ebr])\n",
    "                i+=1\n",
    "                label_list.append(label[0])\n",
    "            except tf.errors.OutOfRangeError:\n",
    "                break\n",
    "    low_full = neg + low\n",
    "    mid_full = neg + mid\n",
    "    high_full = neg + high\n",
    "    \n",
    "    df_low = pd.DataFrame(low_full[1:], columns=low_full[0])\n",
    "    df_mid = pd.DataFrame(mid_full[1:], columns=mid_full[0])\n",
    "    df_high = pd.DataFrame(high_full[1:], columns=high_full[0])\n",
    "    \n",
    "    low_fpr, low_tpr, _ = roc_curve(df_low['label'].values, df_low['mse'].values)\n",
    "    auc_low = auc(low_fpr, low_tpr)\n",
    "    \n",
    "    mid_fpr, mid_tpr, _ = roc_curve(df_mid['label'].values, df_mid['mse'].values)\n",
    "    auc_mid = auc(mid_fpr, mid_tpr)\n",
    "\n",
    "    high_fpr, high_tpr, _ = roc_curve(df_high['label'].values, df_high['mse'].values)\n",
    "    auc_high = auc(high_fpr, high_tpr)\n",
    "\n",
    "    fpr, tpr, _ = roc_curve(label_list, mse)\n",
    "    auc_com = auc(fpr,tpr)\n",
    "    return auc_low, auc_mid, auc_high, auc_com"
   ]
  },
  {
   "cell_type": "code",
   "execution_count": 6,
   "metadata": {},
   "outputs": [
    {
     "name": "stdout",
     "output_type": "stream",
     "text": [
      "Processed scene beach for WaveNet.\n",
      "Processed scene bus for WaveNet.\n",
      "Processed scene cafe_restaurant for WaveNet.\n",
      "Processed scene car for WaveNet.\n",
      "Processed scene city_center for WaveNet.\n",
      "Processed scene forest_path for WaveNet.\n",
      "Processed scene grocery_store for WaveNet.\n",
      "Processed scene home for WaveNet.\n",
      "Processed scene library for WaveNet.\n",
      "Processed scene metro_station for WaveNet.\n",
      "Processed scene office for WaveNet.\n",
      "Processed scene park for WaveNet.\n",
      "Processed scene residential_area for WaveNet.\n",
      "Processed scene train for WaveNet.\n",
      "Processed scene tram for WaveNet.\n"
     ]
    }
   ],
   "source": [
    "scenes = (\n",
    "    \"beach\",\n",
    "    \"bus\",\n",
    "    \"cafe_restaurant\",\n",
    "    \"car\",\n",
    "    \"city_center\",\n",
    "    \"forest_path\",\n",
    "    \"grocery_store\",\n",
    "    \"home\",\n",
    "    \"library\",\n",
    "    \"metro_station\",\n",
    "    \"office\",\n",
    "    \"park\",\n",
    "    \"residential_area\",\n",
    "    \"train\",\n",
    "    \"tram\"\n",
    ")\n",
    "\n",
    "auc_neg_6dB = []\n",
    "auc_0dB = []\n",
    "auc_pos_6dB = []\n",
    "auc_com = []\n",
    "\n",
    "for scene_name in scenes:\n",
    "    auc_low, auc_mid, auc_high, auc_all = sep_eval_on_ebr(scene_name, 'wavenet', \"WaveNet\")\n",
    "    auc_neg_6dB.append(auc_low)\n",
    "    auc_0dB.append(auc_mid)\n",
    "    auc_pos_6dB.append(auc_high)\n",
    "    auc_com.append(auc_all)\n",
    "    print('Processed scene {} for WaveNet.'.format(scene_name))"
   ]
  },
  {
   "cell_type": "code",
   "execution_count": 7,
   "metadata": {},
   "outputs": [
    {
     "data": {
      "image/png": "[encoded data removed]",
      "text/plain": [
       "<Figure size 1440x720 with 1 Axes>"
      ]
     },
     "metadata": {
      "needs_background": "light"
     },
     "output_type": "display_data"
    }
   ],
   "source": [
    "num_scenes = np.arange(len(scenes))\n",
    "plt.figure(figsize=(20,10))\n",
    "high_bar = plt.bar(num_scenes, auc_pos_6dB)\n",
    "com_bar = plt.bar(num_scenes,auc_com)\n",
    "mid_bar = plt.bar(num_scenes,auc_0dB)\n",
    "low_bar = plt.bar(num_scenes,  auc_neg_6dB)\n",
    "plt.legend((high_bar[0], com_bar[0], mid_bar[0],low_bar[0] ), ('6dB', 'Combined', '0dB', '-6dB'))\n",
    "plt.xticks(num_scenes, scenes)\n",
    "plt.xlabel('Scene')\n",
    "plt.ylabel('AUC score')\n",
    "plt.show()"
   ]
  },
  {
   "cell_type": "code",
   "execution_count": 8,
   "metadata": {},
   "outputs": [
    {
     "name": "stdout",
     "output_type": "stream",
     "text": [
      "Processed scene beach for CAE.\n",
      "Processed scene bus for CAE.\n",
      "Processed scene cafe_restaurant for CAE.\n",
      "Processed scene car for CAE.\n",
      "Processed scene city_center for CAE.\n",
      "Processed scene forest_path for CAE.\n",
      "Processed scene grocery_store for CAE.\n",
      "Processed scene home for CAE.\n",
      "Processed scene library for CAE.\n",
      "Processed scene metro_station for CAE.\n",
      "Processed scene office for CAE.\n",
      "Processed scene park for CAE.\n",
      "Processed scene residential_area for CAE.\n",
      "Processed scene train for CAE.\n",
      "Processed scene tram for CAE.\n"
     ]
    }
   ],
   "source": [
    "scenes = (\n",
    "    \"beach\",\n",
    "    \"bus\",\n",
    "    \"cafe_restaurant\",\n",
    "    \"car\",\n",
    "    \"city_center\",\n",
    "    \"forest_path\",\n",
    "    \"grocery_store\",\n",
    "    \"home\",\n",
    "    \"library\",\n",
    "    \"metro_station\",\n",
    "    \"office\",\n",
    "    \"park\",\n",
    "    \"residential_area\",\n",
    "    \"train\",\n",
    "    \"tram\"\n",
    ")\n",
    "\n",
    "auc_neg_6dB = []\n",
    "auc_0dB = []\n",
    "auc_pos_6dB = []\n",
    "auc_com = []\n",
    "\n",
    "for scene_name in scenes:\n",
    "    auc_low, auc_mid, auc_high, auc_all = sep_eval_on_ebr(scene_name,'cae','CAE')\n",
    "    auc_neg_6dB.append(auc_low)\n",
    "    auc_0dB.append(auc_mid)\n",
    "    auc_pos_6dB.append(auc_high)\n",
    "    auc_com.append(auc_all)\n",
    "    print('Processed scene {} for CAE.'.format(scene_name))"
   ]
  },
  {
   "cell_type": "code",
   "execution_count": 9,
   "metadata": {},
   "outputs": [
    {
     "data": {
      "image/png": "[encoded data removed]",
      "text/plain": [
       "<Figure size 1440x720 with 1 Axes>"
      ]
     },
     "metadata": {
      "needs_background": "light"
     },
     "output_type": "display_data"
    }
   ],
   "source": [
    "num_scenes = np.arange(len(scenes))\n",
    "plt.figure(figsize=(20,10))\n",
    "high_bar = plt.bar(num_scenes, auc_pos_6dB)\n",
    "com_bar = plt.bar(num_scenes,auc_com)\n",
    "mid_bar = plt.bar(num_scenes,auc_0dB)\n",
    "low_bar = plt.bar(num_scenes,  auc_neg_6dB)\n",
    "plt.legend((high_bar[0], com_bar[0], mid_bar[0],low_bar[0] ), ('6dB', 'Combined', '0dB', '-6dB'))\n",
    "plt.xticks(num_scenes, scenes)\n",
    "plt.xlabel('Scene')\n",
    "plt.ylabel('AUC score')\n",
    "plt.show()"
   ]
  }
 ],
 "metadata": {
  "anaconda-cloud": {},
  "kernelspec": {
   "display_name": "Python 3",
   "language": "python",
   "name": "python3"
  },
  "language_info": {
   "codemirror_mode": {
    "name": "ipython",
    "version": 3
   },
   "file_extension": ".py",
   "mimetype": "text/x-python",
   "name": "python",
   "nbconvert_exporter": "python",
   "pygments_lexer": "ipython3",
   "version": "3.6.2"
  }
 },
 "nbformat": 4,
 "nbformat_minor": 2
}
