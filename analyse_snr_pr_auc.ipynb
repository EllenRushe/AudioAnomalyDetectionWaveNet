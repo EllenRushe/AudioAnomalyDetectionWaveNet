{
 "cells": [
  {
   "cell_type": "code",
   "execution_count": 2,
   "metadata": {},
   "outputs": [
    {
     "name": "stdout",
     "output_type": "stream",
     "text": [
      "WARNING:tensorflow:From /Users/ellenrushe/anaconda3/envs/py36/lib/python3.8/site-packages/tensorflow/python/compat/v2_compat.py:96: disable_resource_variables (from tensorflow.python.ops.variable_scope) is deprecated and will be removed in a future version.\n",
      "Instructions for updating:\n",
      "non-resource variables are not supported in the long term\n"
     ]
    }
   ],
   "source": [
    "import os\n",
    "import glob\n",
    "import math\n",
    "import seaborn as sns\n",
    "import numpy as np\n",
    "import pandas as pd\n",
    "import tensorflow as tf\n",
    "tf.compat.v1.disable_v2_behavior()\n",
    "from ruamel.yaml import YAML\n",
    "import matplotlib.pyplot as plt\n",
    "from sklearn.metrics import precision_recall_curve, auc"
   ]
  },
  {
   "cell_type": "code",
   "execution_count": 3,
   "metadata": {},
   "outputs": [],
   "source": [
    "def _parse_function(file):\n",
    "    features = {\n",
    "        'label': tf.io.FixedLenFeature([], tf.int64),\n",
    "        'audio_inputs': tf.io.FixedLenFeature([], tf.string),\n",
    "        'scene': tf.io.FixedLenFeature([], tf.string),\n",
    "        'source_file': tf.io.FixedLenFeature([], tf.string)\n",
    "    }\n",
    "    parsed_features = tf.io.parse_single_example(file, features=features)\n",
    "    label = tf.cast(parsed_features['label'], tf.int64)\n",
    "    source_file = tf.io.decode_raw(parsed_features['source_file'], tf.uint8)\n",
    "    return label, source_file\n",
    "\n",
    "def get_input_fn(filenames, batch_size):\n",
    "    def _input_fn():\n",
    "        dataset = tf.data.TFRecordDataset(filenames)\n",
    "        dataset = dataset.map(_parse_function)\n",
    "        dataset = dataset.batch(batch_size)\n",
    "        iterator = tf.compat.v1.data.make_one_shot_iterator(dataset)\n",
    "        # There are a couple of elements here. \n",
    "        next_element = iterator.get_next()\n",
    "        return next_element\n",
    "    return _input_fn\n",
    "\n",
    "def data_meta_parse(yaml_file):\n",
    "    with open(yaml_file) as f:\n",
    "        yaml = YAML(typ='safe')\n",
    "        yaml_map = yaml.load(f)\n",
    "        set_dict = dict()\n",
    "        for file_dict in yaml_map:\n",
    "            set_dict[file_dict['mixture_audio_filename']] = dict_to_object(file_dict)\n",
    "        return set_dict\n",
    "    \n",
    "class dict_to_object(object):\n",
    "    def __init__(self, dictionary):\n",
    "        for k, v in dictionary.items():\n",
    "            setattr(self, k, v)\n",
    "\n",
    "    def __str__(self):\n",
    "        return \"\\n\".join([\"{} : {}\".format(k,v) for k,v in self.__dict__.items()])"
   ]
  },
  {
   "cell_type": "code",
   "execution_count": 7,
   "metadata": {},
   "outputs": [],
   "source": [
    "def sep_eval_on_ebr(scene_name, model, model_name):\n",
    "    data_dir = ''\n",
    "    evaltest_dir = os.path.join(data_dir,\"data/TUT-rare-sound-events-2017-evaluation/data\",\n",
    "        \"mixture_data/evaltest/bbb81504db15a03680a0044474633b67\")\n",
    "    test_meta_dir = os.path.join(evaltest_dir,\"meta\")\n",
    "    test_meta_dir_file = os.path.join(test_meta_dir,\"mixture_recipes_evaltest_\")\n",
    "    b_test_meta = data_meta_parse(test_meta_dir_file+\"babycry.yaml\")\n",
    "    gs_test_meta = data_meta_parse(test_meta_dir_file+\"gunshot.yaml\")\n",
    "    gb_test_meta = data_meta_parse(test_meta_dir_file+\"glassbreak.yaml\")  \n",
    "    filenames = [os.path.join(data_dir, 'data_binaries/test/babycry/{}/babycry_{}_pos.tfrecord'.format(scene_name,scene_name)), \n",
    "                 os.path.join(data_dir, 'data_binaries/test/babycry/{}/babycry_{}_neg.tfrecord'.format(scene_name,scene_name)), \n",
    "                 os.path.join(data_dir, 'data_binaries/test/glassbreak/{}/glassbreak_{}_pos.tfrecord'.format(scene_name,scene_name)), \n",
    "                 os.path.join(data_dir, 'data_binaries/test/glassbreak/{}/glassbreak_{}_neg.tfrecord'.format(scene_name,scene_name)), \n",
    "                 os.path.join(data_dir, 'data_binaries/test/gunshot/{}/gunshot_{}_pos.tfrecord'.format(scene_name,scene_name)), \n",
    "                 os.path.join(data_dir, 'data_binaries/test/gunshot/{}/gunshot_{}_neg.tfrecord'.format(scene_name,scene_name))]\n",
    "    input_fn_test = get_input_fn(filenames, 1)\n",
    "    labels_op, meta_op = input_fn_test()\n",
    "    test_meta = {**b_test_meta, **gs_test_meta, **gb_test_meta}\n",
    "\n",
    "    preds = np.load(os.path.join(data_dir, \n",
    "                                 'preds/test_preds_{}/preds_test_{}_{}.npy'.format(model, model_name, scene_name)))\n",
    "    targets = np.load(os.path.join(data_dir,\n",
    "                                   'targets/targets_{}/targets_test_{}_{}.npy'.format(model, model_name, scene_name)))\n",
    "    preds = np.squeeze(preds)\n",
    "    targets = np.squeeze(targets)\n",
    "\n",
    "    mse = ((preds-targets)**2).mean(axis=1)\n",
    "\n",
    "    label_list = []\n",
    "    ebr_list = []\n",
    "\n",
    "    neg = [['mse', 'label', 'ebr']]\n",
    "    mid = []\n",
    "    high = []\n",
    "    low = []\n",
    "    i = 0\n",
    "    with  tf.compat.v1.Session() as sess:\n",
    "        while True:\n",
    "            try:\n",
    "                label, meta = sess.run([labels_op, meta_op])\n",
    "                # Deserialise (was stored as an int)\n",
    "                meta_str = ''.join(chr(i) for i in meta[0])\n",
    "                try:\n",
    "                    # Get name of file and check the event-to-backround-ratio of this meta file. \n",
    "                    ebr = test_meta['_'.join(meta_str.split('_')[:-1])+'.wav'].ebr\n",
    "                except KeyError:\n",
    "                    print('File meta not found')\n",
    "                    break\n",
    "                if label == 1:\n",
    "                    # db are floats. \n",
    "                    if math.isclose(ebr,0):\n",
    "                        mid.append([mse[i], label[0], ebr])\n",
    "                    elif ebr < 0:\n",
    "                        low.append([mse[i], label[0], ebr])\n",
    "                    elif ebr > 0:\n",
    "                        high.append([mse[i], label[0], ebr])\n",
    "                else:\n",
    "                    neg.append([mse[i], label[0], ebr])\n",
    "                i+=1\n",
    "                label_list.append(label[0])\n",
    "            except tf.errors.OutOfRangeError:\n",
    "                break\n",
    "    low_full = neg + low\n",
    "    mid_full = neg + mid\n",
    "    high_full = neg + high\n",
    "    \n",
    "    df_low = pd.DataFrame(low_full[1:], columns=low_full[0])\n",
    "    df_mid = pd.DataFrame(mid_full[1:], columns=mid_full[0])\n",
    "    df_high = pd.DataFrame(high_full[1:], columns=high_full[0])\n",
    "    \n",
    "    low_precision, low_recall, _ = precision_recall_curve(df_low['label'].values, df_low['mse'].values)\n",
    "    auc_low = auc(low_recall, low_precision)\n",
    "    \n",
    "    mid_precision, mid_recall, _ = precision_recall_curve(df_mid['label'].values, df_mid['mse'].values)\n",
    "    auc_mid = auc(mid_recall, mid_precision)\n",
    "\n",
    "    high_precision, high_recall, _ = precision_recall_curve(df_high['label'].values, df_high['mse'].values)\n",
    "    auc_high = auc(high_recall, high_precision)\n",
    "\n",
    "    precision, recall, _ = precision_recall_curve(label_list, mse)\n",
    "    auc_com = auc(recall,precision)\n",
    "    return auc_low, auc_mid, auc_high, auc_com"
   ]
  },
  {
   "cell_type": "code",
   "execution_count": 9,
   "metadata": {},
   "outputs": [
    {
     "name": "stdout",
     "output_type": "stream",
     "text": [
      "Processed scene beach for WaveNet.\n",
      "Processed scene bus for WaveNet.\n",
      "Processed scene cafe_restaurant for WaveNet.\n",
      "Processed scene car for WaveNet.\n",
      "Processed scene city_center for WaveNet.\n",
      "Processed scene forest_path for WaveNet.\n",
      "Processed scene grocery_store for WaveNet.\n",
      "Processed scene home for WaveNet.\n",
      "Processed scene library for WaveNet.\n",
      "Processed scene metro_station for WaveNet.\n",
      "Processed scene office for WaveNet.\n",
      "Processed scene park for WaveNet.\n",
      "Processed scene residential_area for WaveNet.\n",
      "Processed scene train for WaveNet.\n",
      "Processed scene tram for WaveNet.\n"
     ]
    }
   ],
   "source": [
    "scenes = (\n",
    "    \"beach\",\n",
    "    \"bus\",\n",
    "    \"cafe_restaurant\",\n",
    "    \"car\",\n",
    "    \"city_center\",\n",
    "    \"forest_path\",\n",
    "    \"grocery_store\",\n",
    "    \"home\",\n",
    "    \"library\",\n",
    "    \"metro_station\",\n",
    "    \"office\",\n",
    "    \"park\",\n",
    "    \"residential_area\",\n",
    "    \"train\",\n",
    "    \"tram\"\n",
    ")\n",
    "\n",
    "auc_neg_6dB_wn = []\n",
    "auc_0dB_wn = []\n",
    "auc_pos_6dB_wn = []\n",
    "auc_com_wn = []\n",
    "\n",
    "for scene_name in scenes:\n",
    "    auc_low_wn, auc_mid_wn, auc_high_wn, auc_all_wn = sep_eval_on_ebr(scene_name, 'wavenet', \"WaveNet\")\n",
    "    auc_neg_6dB_wn.append(auc_low_wn)\n",
    "    auc_0dB_wn.append(auc_mid_wn)\n",
    "    auc_pos_6dB_wn.append(auc_high_wn)\n",
    "    auc_com_wn.append(auc_all_wn)\n",
    "    print('Processed scene {} for WaveNet.'.format(scene_name))"
   ]
  },
  {
   "cell_type": "code",
   "execution_count": 15,
   "metadata": {},
   "outputs": [
    {
     "data": {
      "text/plain": [
       "[0.29379025535415404,\n",
       " 0.47598223339761025,\n",
       " 0.23564432425521645,\n",
       " 0.6059104803314989,\n",
       " 0.3155788168980619,\n",
       " 0.08872043440048213,\n",
       " 0.23889167864322527,\n",
       " 0.0734346613481804,\n",
       " 0.17774899063906918,\n",
       " 0.13611963056317913,\n",
       " 0.20684201131174249,\n",
       " 0.45607483271930704,\n",
       " 0.22124409857106883,\n",
       " 0.459781283129454,\n",
       " 0.563348983744147]"
      ]
     },
     "execution_count": 15,
     "metadata": {},
     "output_type": "execute_result"
    }
   ],
   "source": [
    "auc_com_wn"
   ]
  },
  {
   "cell_type": "code",
   "execution_count": 11,
   "metadata": {},
   "outputs": [
    {
     "data": {
      "image/png": "[encoded data removed]",
      "text/plain": [
       "<Figure size 1237.12x576 with 1 Axes>"
      ]
     },
     "metadata": {
      "needs_background": "light"
     },
     "output_type": "display_data"
    }
   ],
   "source": [
    "scene_list = [scene.replace('_', ' ') for scene in scenes]\n",
    "scene_list = scene_list*4 # Create 15 scenes for each snr score. \n",
    "dbs_wn = np.concatenate([np.full(len(auc_neg_6dB_wn), '-6dB'),\n",
    "                      np.full(len(auc_0dB_wn), '0dB'),\n",
    "                      np.full(len(auc_pos_6dB_wn), '6dB'),\n",
    "                      np.full(len(auc_com_wn), 'combined')\n",
    "                     ])\n",
    "auc_scores_wn =  auc_neg_6dB_wn+auc_0dB_wn+auc_pos_6dB_wn+auc_com_wn\n",
    "plot_data_wn = {'scene': scene_list, \n",
    "     'dbs': dbs_wn ,\n",
    "     'AUC':auc_scores_wn} \n",
    "\n",
    "df_wn = pd.DataFrame(data=plot_data_wn)\n",
    "wn_plot=sns.catplot(x='scene', y='AUC', hue='dbs', data=df_wn, kind='bar', height=8, aspect=2,palette=sns.color_palette(\"hls\", 4))\n",
    "wn_plot.savefig(\"wavenet_snr_PRAUC.png\")\n"
   ]
  },
  {
   "cell_type": "code",
   "execution_count": 12,
   "metadata": {},
   "outputs": [
    {
     "name": "stdout",
     "output_type": "stream",
     "text": [
      "Processed scene beach for CAE.\n",
      "Processed scene bus for CAE.\n",
      "Processed scene cafe_restaurant for CAE.\n",
      "Processed scene car for CAE.\n",
      "Processed scene city_center for CAE.\n",
      "Processed scene forest_path for CAE.\n",
      "Processed scene grocery_store for CAE.\n",
      "Processed scene home for CAE.\n",
      "Processed scene library for CAE.\n",
      "Processed scene metro_station for CAE.\n",
      "Processed scene office for CAE.\n",
      "Processed scene park for CAE.\n",
      "Processed scene residential_area for CAE.\n",
      "Processed scene train for CAE.\n",
      "Processed scene tram for CAE.\n"
     ]
    }
   ],
   "source": [
    "auc_neg_6dB_cae = []\n",
    "auc_0dB_cae = []\n",
    "auc_pos_6dB_cae = []\n",
    "auc_com_cae = []\n",
    "\n",
    "for scene_name in scenes:\n",
    "    auc_low_cae, auc_mid_cae, auc_high_cae, auc_all_cae = sep_eval_on_ebr(scene_name,'cae','CAE')\n",
    "    auc_neg_6dB_cae.append(auc_low_cae)\n",
    "    auc_0dB_cae.append(auc_mid_cae)\n",
    "    auc_pos_6dB_cae.append(auc_high_cae)\n",
    "    auc_com_cae.append(auc_all_cae)\n",
    "    print('Processed scene {} for CAE.'.format(scene_name))"
   ]
  },
  {
   "cell_type": "code",
   "execution_count": 14,
   "metadata": {},
   "outputs": [
    {
     "data": {
      "text/plain": [
       "[0.11714791518898612,\n",
       " 0.38061454765119745,\n",
       " 0.07978159613958724,\n",
       " 0.46540222073680715,\n",
       " 0.12912540372694345,\n",
       " 0.061924587241173515,\n",
       " 0.09878014991818483,\n",
       " 0.04615333908956339,\n",
       " 0.025959896021388568,\n",
       " 0.0611757922176793,\n",
       " 0.14997070729091153,\n",
       " 0.05959972071777134,\n",
       " 0.05250776384662553,\n",
       " 0.36687000095952677,\n",
       " 0.3872904371435507]"
      ]
     },
     "execution_count": 14,
     "metadata": {},
     "output_type": "execute_result"
    }
   ],
   "source": [
    "auc_com_cae"
   ]
  },
  {
   "cell_type": "code",
   "execution_count": 13,
   "metadata": {},
   "outputs": [
    {
     "data": {
      "image/png": "[encoded data removed]",
      "text/plain": [
       "<Figure size 1237.12x576 with 1 Axes>"
      ]
     },
     "metadata": {
      "needs_background": "light"
     },
     "output_type": "display_data"
    }
   ],
   "source": [
    "\n",
    "dbs_cae = np.concatenate([np.full(len(auc_neg_6dB_cae), '-6dB'),\n",
    "                      np.full(len(auc_0dB_cae), '0dB'),\n",
    "                      np.full(len(auc_pos_6dB_cae), '6dB'),\n",
    "                      np.full(len(auc_com_cae), 'combined')\n",
    "                     ])\n",
    "auc_scores_cae =  auc_neg_6dB_cae+auc_0dB_cae+auc_pos_6dB_cae+auc_com_cae\n",
    "plot_data_cae = {'scene': scene_list, \n",
    "     'dbs': dbs_cae ,\n",
    "     'AUC':auc_scores_cae} \n",
    "\n",
    "df_cae = pd.DataFrame(data=plot_data_cae)\n",
    "wn_plot = sns.catplot(x='scene', y='AUC', hue='dbs', data=df_cae, kind='bar', height=8, aspect=2,palette=sns.color_palette(\"hls\", 4))\n",
    "wn_plot.savefig(\"cae_snr_PRAUC.png\")\n",
    "\n"
   ]
  },
  {
   "cell_type": "code",
   "execution_count": null,
   "metadata": {},
   "outputs": [],
   "source": []
  },
  {
   "cell_type": "code",
   "execution_count": null,
   "metadata": {},
   "outputs": [],
   "source": []
  }
 ],
 "metadata": {
  "anaconda-cloud": {},
  "kernelspec": {
   "display_name": "Python 3",
   "language": "python",
   "name": "python3"
  },
  "language_info": {
   "codemirror_mode": {
    "name": "ipython",
    "version": 3
   },
   "file_extension": ".py",
   "mimetype": "text/x-python",
   "name": "python",
   "nbconvert_exporter": "python",
   "pygments_lexer": "ipython3",
   "version": "3.8.2"
  }
 },
 "nbformat": 4,
 "nbformat_minor": 2
}
