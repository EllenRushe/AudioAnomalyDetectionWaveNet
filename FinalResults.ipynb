{
 "cells": [
  {
   "cell_type": "code",
   "execution_count": 4,
   "metadata": {},
   "outputs": [],
   "source": [
    "import matplotlib.pyplot as plt\n",
    "import numpy as np\n",
    "import glob\n",
    "from sklearn import metrics"
   ]
  },
  {
   "cell_type": "code",
   "execution_count": 5,
   "metadata": {},
   "outputs": [],
   "source": [
    "wavenet_preds_dir = \"preds/test_preds_wavenet/preds_test_WaveNet_\"\n",
    "wavenet_targets_dir = \"targets/targets_wavenet/targets_test_WaveNet_\"\n",
    "wavenet_labels_dir = \"labels/test_labels_wavenet/label_list_WaveNet_\"\n",
    "\n",
    "cae_preds_dir = \"preds/test_preds_cae/preds_test_CAE_\"\n",
    "cae_targets_dir = \"targets/targets_cae/targets_test_CAE_\"\n",
    "cae_labels_dir = \"labels/test_labels_cae/label_list_CAE_\"\n",
    "scenes = (\n",
    "    \"beach\",\n",
    "    \"bus\",\n",
    "    \"cafe_restaurant\",\n",
    "    \"car\",\n",
    "    \"city_center\",\n",
    "    \"forest_path\",\n",
    "    \"grocery_store\",\n",
    "    \"home\",\n",
    "    \"library\",\n",
    "    \"metro_station\",\n",
    "    \"office\",\n",
    "    \"park\",\n",
    "    \"residential_area\",\n",
    "    \"train\",\n",
    "    \"tram\"\n",
    ")"
   ]
  },
  {
   "cell_type": "code",
   "execution_count": 6,
   "metadata": {},
   "outputs": [],
   "source": [
    "def results(scene_name, preds_dir, targets_dir, labels_dir):\n",
    "    preds = np.load(\"{}{}.npy\".format(preds_dir,scene_name))\n",
    "    preds = np.squeeze(preds)\n",
    "    targets =np.load(\"{}{}.npy\".format(targets_dir,scene_name))\n",
    "    targets = np.squeeze(targets)\n",
    "    labels =np.load(\"{}{}.npy\".format(labels_dir,scene_name))\n",
    "    labels = np.squeeze(labels)\n",
    "    return preds, targets, labels"
   ]
  },
  {
   "cell_type": "code",
   "execution_count": null,
   "metadata": {},
   "outputs": [],
   "source": [
    "print('WaveNet Results:')\n",
    "for scene in scenes:\n",
    "    wn_preds, wn_targets, wn_labels = results(scene,wavenet_preds_dir, wavenet_targets_dir, wavenet_labels_dir )\n",
    "    wn_SE = ((wn_preds - wn_targets) ** 2)\n",
    "    wn_mse_col = wn_SE.mean(axis=0)\n",
    "    wn_mse = wn_SE.mean(axis=1)\n",
    "    wn_fpr, wn_tpr, wn_thresholds = metrics.roc_curve(wn_labels,wn_mse)\n",
    "    wn_auc_mse = metrics.auc(wn_fpr, wn_tpr)\n",
    "    print('{:.2f} {} ({})'.format(wn_auc_mse, scene, wn_auc_mse))"
   ]
  },
  {
   "cell_type": "code",
   "execution_count": null,
   "metadata": {},
   "outputs": [],
   "source": [
    "print('CAE Results:')\n",
    "for scene in scenes:\n",
    "    cae_preds, cae_targets, cae_labels = results(scene,cae_preds_dir, cae_targets_dir, cae_labels_dir )\n",
    "    cae_SE = ((cae_preds - cae_targets) ** 2)\n",
    "    cae_mse = cae_SE.mean(axis=1)\n",
    "    cae_fpr, cae_tpr, cae_thresholds = metrics.roc_curve(cae_labels,cae_mse)\n",
    "    cae_auc_mse = metrics.auc(cae_fpr, cae_tpr)\n",
    "    print('{:.2f} {} ({})'.format(cae_auc_mse, scene, cae_auc_mse))"
   ]
  },
  {
   "cell_type": "code",
   "execution_count": null,
   "metadata": {
    "collapsed": true
   },
   "outputs": [],
   "source": []
  }
 ],
 "metadata": {
  "anaconda-cloud": {},
  "kernelspec": {
   "display_name": "Python 3",
   "language": "python",
   "name": "python3"
  },
  "language_info": {
   "codemirror_mode": {
    "name": "ipython",
    "version": 3
   },
   "file_extension": ".py",
   "mimetype": "text/x-python",
   "name": "python",
   "nbconvert_exporter": "python",
   "pygments_lexer": "ipython3",
   "version": "3.8.2"
  }
 },
 "nbformat": 4,
 "nbformat_minor": 2
}
