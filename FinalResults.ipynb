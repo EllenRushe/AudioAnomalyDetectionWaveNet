{
 "cells": [
  {
   "cell_type": "code",
   "execution_count": 6,
   "metadata": {},
   "outputs": [],
   "source": [
    "import matplotlib.pyplot as plt\n",
    "import numpy as np\n",
    "import glob\n",
    "from sklearn import metrics"
   ]
  },
  {
   "cell_type": "code",
   "execution_count": 7,
   "metadata": {},
   "outputs": [],
   "source": [
    "wavenet_preds_dir = \"preds/test_preds_wavenet/preds_test_WaveNet_\"\n",
    "wavenet_targets_dir = \"targets/targets_wavenet/targets_test_WaveNet_\"\n",
    "wavenet_labels_dir = \"labels/test_labels_wavenet/label_list_WaveNet_\"\n",
    "\n",
    "cae_preds_dir = \"preds/test_preds_cae/preds_test_CAE_\"\n",
    "cae_targets_dir = \"targets/targets_cae/targets_test_CAE_\"\n",
    "cae_labels_dir = \"labels/test_labels_cae/label_list_CAE_\"\n",
    "scenes = (\n",
    "    \"beach\",\n",
    "    \"bus\",\n",
    "    \"cafe_restaurant\",\n",
    "    \"car\",\n",
    "    \"city_center\",\n",
    "    \"forest_path\",\n",
    "    \"grocery_store\",\n",
    "    \"home\",\n",
    "    \"library\",\n",
    "    \"metro_station\",\n",
    "    \"office\",\n",
    "    \"park\",\n",
    "    \"residential_area\",\n",
    "    \"train\",\n",
    "    \"tram\"\n",
    ")"
   ]
  },
  {
   "cell_type": "code",
   "execution_count": 8,
   "metadata": {},
   "outputs": [],
   "source": [
    "def results(scene_name, preds_dir, targets_dir, labels_dir):\n",
    "    preds = np.load(\"{}{}.npy\".format(preds_dir,scene_name))\n",
    "    preds = np.squeeze(preds)\n",
    "    targets =np.load(\"{}{}.npy\".format(targets_dir,scene_name))\n",
    "    targets = np.squeeze(targets)\n",
    "    labels =np.load(\"{}{}.npy\".format(labels_dir,scene_name))\n",
    "    labels = np.squeeze(labels)\n",
    "    return preds, targets, labels"
   ]
  },
  {
   "cell_type": "code",
   "execution_count": 9,
   "metadata": {},
   "outputs": [
    {
     "name": "stdout",
     "output_type": "stream",
     "text": [
      "WaveNet Results:\n",
      "0.72 beach (0.7249212353262138)\n",
      "0.83 bus (0.8287052631578948)\n",
      "0.76 cafe_restaurant (0.7561466229663864)\n",
      "0.82 car (0.8217299387792277)\n",
      "0.82 city_center (0.8236671102689241)\n",
      "0.72 forest_path (0.7175636189877798)\n",
      "0.77 grocery_store (0.7716451089573134)\n",
      "0.69 home (0.6905454425988069)\n",
      "0.67 library (0.6662959154254813)\n",
      "0.79 metro_station (0.790010652017652)\n",
      "0.78 office (0.7841212117390216)\n",
      "0.80 park (0.8038107366043231)\n",
      "0.78 residential_area (0.777699619439862)\n",
      "0.84 train (0.8382276824461414)\n",
      "0.87 tram (0.8695021100364341)\n"
     ]
    }
   ],
   "source": [
    "print('WaveNet Results:')\n",
    "for scene in scenes:\n",
    "    wn_preds, wn_targets, wn_labels = results(scene,wavenet_preds_dir, wavenet_targets_dir, wavenet_labels_dir )\n",
    "    wn_SE = ((wn_preds - wn_targets) ** 2)\n",
    "    wn_mse_col = wn_SE.mean(axis=0)\n",
    "    wn_mse = wn_SE.mean(axis=1)\n",
    "    wn_fpr, wn_tpr, wn_thresholds = metrics.roc_curve(wn_labels,wn_mse)\n",
    "    wn_auc_mse = metrics.auc(wn_fpr, wn_tpr)\n",
    "    print('{:.2f} {} ({})'.format(wn_auc_mse, scene, wn_auc_mse))"
   ]
  },
  {
   "cell_type": "code",
   "execution_count": 10,
   "metadata": {},
   "outputs": [
    {
     "name": "stdout",
     "output_type": "stream",
     "text": [
      "CAE Results:\n",
      "0.69 beach (0.6942539539938926)\n",
      "0.79 bus (0.7929294414196411)\n",
      "0.69 cafe_restaurant (0.6925009523016172)\n",
      "0.79 car (0.7896839815949859)\n",
      "0.75 city_center (0.751457434700052)\n",
      "0.65 forest_path (0.6545196343519264)\n",
      "0.71 grocery_store (0.7050269513862195)\n",
      "0.69 home (0.6898417472535412)\n",
      "0.59 library (0.586443300797961)\n",
      "0.74 metro_station (0.7429961169649938)\n",
      "0.78 office (0.7796394913934745)\n",
      "0.70 park (0.6985115740822218)\n",
      "0.73 residential_area (0.7343311785037272)\n",
      "0.82 train (0.8230979782799646)\n",
      "0.80 tram (0.8045354121379408)\n"
     ]
    }
   ],
   "source": [
    "print('CAE Results:')\n",
    "for scene in scenes:\n",
    "    cae_preds, cae_targets, cae_labels = results(scene,cae_preds_dir, cae_targets_dir, cae_labels_dir )\n",
    "    cae_SE = ((cae_preds - cae_targets) ** 2)\n",
    "    cae_mse = cae_SE.mean(axis=1)\n",
    "    cae_fpr, cae_tpr, cae_thresholds = metrics.roc_curve(cae_labels,cae_mse)\n",
    "    cae_auc_mse = metrics.auc(cae_fpr, cae_tpr)\n",
    "    print('{:.2f} {} ({})'.format(cae_auc_mse, scene, cae_auc_mse))"
   ]
  }
 ],
 "metadata": {
  "kernelspec": {
   "display_name": "Python 3",
   "language": "python",
   "name": "python3"
  },
  "language_info": {
   "codemirror_mode": {
    "name": "ipython",
    "version": 3
   },
   "file_extension": ".py",
   "mimetype": "text/x-python",
   "name": "python",
   "nbconvert_exporter": "python",
   "pygments_lexer": "ipython3",
   "version": "3.6.8"
  }
 },
 "nbformat": 4,
 "nbformat_minor": 2
}
